{
 "cells": [
  {
   "cell_type": "code",
   "execution_count": 88,
   "id": "361faa70",
   "metadata": {},
   "outputs": [],
   "source": [
    "import pandas as pd\n",
    "\n",
    "df = pd.read_csv('tips.csv')"
   ]
  },
  {
   "cell_type": "code",
   "execution_count": 89,
   "id": "ae361724",
   "metadata": {},
   "outputs": [
    {
     "data": {
      "text/plain": [
       "Index(['total_conta', 'gorjeta', 'sexo', 'fumante', 'dia', 'horario', 'size'], dtype='object')"
      ]
     },
     "execution_count": 89,
     "metadata": {},
     "output_type": "execute_result"
    }
   ],
   "source": [
    "df = df.rename(columns = {'total_bill' : 'total_conta', 'tip' : 'gorjeta', 'sex' : 'sexo', 'smoker' : 'fumante', 'day' : 'dia', 'time' : 'horario'})\n",
    "df.columns"
   ]
  },
  {
   "cell_type": "code",
   "execution_count": 90,
   "id": "a4698279",
   "metadata": {},
   "outputs": [],
   "source": [
    "# Remover outliers em na coluna 'gorjeta'\n",
    "# Iqr ('Intervalo Interquartil')\n",
    "q1_gorjeta = df['gorjeta'].quantile(0.25)\n",
    "q3_gorjeta = df['gorjeta'].quantile(0.75)\n",
    "iqr_gorjeta = q3_gorjeta - q1_gorjeta\n",
    "\n",
    "limite_inferior_gorjeta = q1_gorjeta - 1.5 * iqr_gorjeta\n",
    "limite_superior_gorjeta = q3_gorjeta + 1.5 * iqr_gorjeta\n",
    "df = df[(df['gorjeta'] >= limite_inferior_gorjeta) & (df['gorjeta'] <= limite_superior_gorjeta)]\n"
   ]
  },
  {
   "cell_type": "code",
   "execution_count": 91,
   "id": "d3581669",
   "metadata": {},
   "outputs": [],
   "source": [
    "df = df.drop_duplicates()\n",
    "\n",
    "df = df.dropna()"
   ]
  },
  {
   "cell_type": "code",
   "execution_count": 94,
   "id": "2f892a73",
   "metadata": {},
   "outputs": [],
   "source": [
    "df['Percentual_gorjeta'] = ((df['gorjeta'] / df['total_conta']) * 100).round(2)\n",
    "df['conta_pessoal'] = (df['total_conta'] / df['size']).round(2)\n",
    "df['gorjeta_pessoal'] = (df['gorjeta'] / df['size']).round(2)"
   ]
  },
  {
   "cell_type": "code",
   "execution_count": 95,
   "id": "d5b7ab3f",
   "metadata": {},
   "outputs": [
    {
     "data": {
      "text/html": [
       "<div>\n",
       "<style scoped>\n",
       "    .dataframe tbody tr th:only-of-type {\n",
       "        vertical-align: middle;\n",
       "    }\n",
       "\n",
       "    .dataframe tbody tr th {\n",
       "        vertical-align: top;\n",
       "    }\n",
       "\n",
       "    .dataframe thead th {\n",
       "        text-align: right;\n",
       "    }\n",
       "</style>\n",
       "<table border=\"1\" class=\"dataframe\">\n",
       "  <thead>\n",
       "    <tr style=\"text-align: right;\">\n",
       "      <th></th>\n",
       "      <th>total_conta</th>\n",
       "      <th>gorjeta</th>\n",
       "      <th>sexo</th>\n",
       "      <th>fumante</th>\n",
       "      <th>dia</th>\n",
       "      <th>horario</th>\n",
       "      <th>size</th>\n",
       "      <th>Percentual_gorjeta</th>\n",
       "      <th>conta_pessoal</th>\n",
       "      <th>gorjeta_pessoal</th>\n",
       "    </tr>\n",
       "  </thead>\n",
       "  <tbody>\n",
       "    <tr>\n",
       "      <th>0</th>\n",
       "      <td>16.99</td>\n",
       "      <td>1.01</td>\n",
       "      <td>Female</td>\n",
       "      <td>No</td>\n",
       "      <td>Sun</td>\n",
       "      <td>Dinner</td>\n",
       "      <td>2</td>\n",
       "      <td>5.94</td>\n",
       "      <td>8.49</td>\n",
       "      <td>0.50</td>\n",
       "    </tr>\n",
       "    <tr>\n",
       "      <th>1</th>\n",
       "      <td>10.34</td>\n",
       "      <td>1.66</td>\n",
       "      <td>Male</td>\n",
       "      <td>No</td>\n",
       "      <td>Sun</td>\n",
       "      <td>Dinner</td>\n",
       "      <td>3</td>\n",
       "      <td>16.05</td>\n",
       "      <td>3.45</td>\n",
       "      <td>0.55</td>\n",
       "    </tr>\n",
       "    <tr>\n",
       "      <th>2</th>\n",
       "      <td>21.01</td>\n",
       "      <td>3.50</td>\n",
       "      <td>Male</td>\n",
       "      <td>No</td>\n",
       "      <td>Sun</td>\n",
       "      <td>Dinner</td>\n",
       "      <td>3</td>\n",
       "      <td>16.66</td>\n",
       "      <td>7.00</td>\n",
       "      <td>1.17</td>\n",
       "    </tr>\n",
       "    <tr>\n",
       "      <th>3</th>\n",
       "      <td>23.68</td>\n",
       "      <td>3.31</td>\n",
       "      <td>Male</td>\n",
       "      <td>No</td>\n",
       "      <td>Sun</td>\n",
       "      <td>Dinner</td>\n",
       "      <td>2</td>\n",
       "      <td>13.98</td>\n",
       "      <td>11.84</td>\n",
       "      <td>1.66</td>\n",
       "    </tr>\n",
       "    <tr>\n",
       "      <th>4</th>\n",
       "      <td>24.59</td>\n",
       "      <td>3.61</td>\n",
       "      <td>Female</td>\n",
       "      <td>No</td>\n",
       "      <td>Sun</td>\n",
       "      <td>Dinner</td>\n",
       "      <td>4</td>\n",
       "      <td>14.68</td>\n",
       "      <td>6.15</td>\n",
       "      <td>0.90</td>\n",
       "    </tr>\n",
       "  </tbody>\n",
       "</table>\n",
       "</div>"
      ],
      "text/plain": [
       "   total_conta  gorjeta    sexo fumante  dia horario  size  \\\n",
       "0        16.99     1.01  Female      No  Sun  Dinner     2   \n",
       "1        10.34     1.66    Male      No  Sun  Dinner     3   \n",
       "2        21.01     3.50    Male      No  Sun  Dinner     3   \n",
       "3        23.68     3.31    Male      No  Sun  Dinner     2   \n",
       "4        24.59     3.61  Female      No  Sun  Dinner     4   \n",
       "\n",
       "   Percentual_gorjeta  conta_pessoal  gorjeta_pessoal  \n",
       "0                5.94           8.49             0.50  \n",
       "1               16.05           3.45             0.55  \n",
       "2               16.66           7.00             1.17  \n",
       "3               13.98          11.84             1.66  \n",
       "4               14.68           6.15             0.90  "
      ]
     },
     "execution_count": 95,
     "metadata": {},
     "output_type": "execute_result"
    }
   ],
   "source": [
    "df.head()"
   ]
  }
 ],
 "metadata": {
  "kernelspec": {
   "display_name": "Python 3",
   "language": "python",
   "name": "python3"
  },
  "language_info": {
   "codemirror_mode": {
    "name": "ipython",
    "version": 3
   },
   "file_extension": ".py",
   "mimetype": "text/x-python",
   "name": "python",
   "nbconvert_exporter": "python",
   "pygments_lexer": "ipython3",
   "version": "3.13.5"
  }
 },
 "nbformat": 4,
 "nbformat_minor": 5
}
